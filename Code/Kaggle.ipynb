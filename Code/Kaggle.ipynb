{
 "cells": [
  {
   "cell_type": "code",
   "execution_count": 1,
   "metadata": {},
   "outputs": [],
   "source": [
    "import numpy as np\n",
    "import pandas as pd\n",
    "from random import seed\n",
    "from random import *\n",
    "import time\n",
    "from math import *\n",
    "import math\n",
    "from itertools import groupby\n",
    "from collections import defaultdict\n",
    "import sklearn\n",
    "from sklearn import preprocessing \n",
    "from sklearn import metrics\n",
    "from sklearn.model_selection import train_test_split"
   ]
  },
  {
   "cell_type": "code",
   "execution_count": 2,
   "metadata": {},
   "outputs": [],
   "source": [
    "train_features = pd.read_csv(\"train_features.csv\",header=None)\n",
    "test_features = pd.read_csv(\"test_features.csv\",header=None)\n",
    "train_label = pd.read_csv(\"train_label.csv\",header=None)"
   ]
  },
  {
   "cell_type": "code",
   "execution_count": 3,
   "metadata": {},
   "outputs": [],
   "source": [
    "train_features = train_features.iloc[:,1:]\n",
    "train_label = train_label[1]\n",
    "Index = test_features[0]\n",
    "test_features = test_features.iloc[:,1:]\n",
    "train_label = train_label[1:]\n",
    "\n",
    "train_features = train_features.to_numpy()\n",
    "test_features = test_features.to_numpy()\n",
    "\n",
    "std_scale = preprocessing.StandardScaler().fit(train_features)\n",
    "train_features_S = std_scale.transform(train_features)\n",
    "test_features_S  = std_scale.transform(test_features)\n",
    "\n",
    "std_scale = preprocessing.Normalizer().fit(train_features)\n",
    "train_features_N = std_scale.transform(train_features)\n",
    "test_features_N  = std_scale.transform(test_features)\n",
    "\n",
    "train_label = train_label.to_numpy()"
   ]
  },
  {
   "cell_type": "markdown",
   "metadata": {},
   "source": [
    "### Decision Tree"
   ]
  },
  {
   "cell_type": "code",
   "execution_count": 4,
   "metadata": {},
   "outputs": [],
   "source": [
    "from sklearn.tree import DecisionTreeClassifier"
   ]
  },
  {
   "cell_type": "code",
   "execution_count": 5,
   "metadata": {},
   "outputs": [
    {
     "name": "stdout",
     "output_type": "stream",
     "text": [
      "Accuracy Scaled: 0.8095238095238095\n",
      "Accuracy Normalized: 0.8095238095238095\n"
     ]
    }
   ],
   "source": [
    "X_train, X_test, y_train, y_test = train_test_split(train_features_S, train_label, test_size=0.2)\n",
    "dtc = DecisionTreeClassifier(max_depth = 2, min_samples_leaf = 2)\n",
    "dtc = dtc.fit(X_train, y_train)\n",
    "y_pred = dtc.predict(X_test)\n",
    "print(\"Accuracy Scaled:\",metrics.accuracy_score(y_test, y_pred))\n",
    "\n",
    "X_train, X_test, y_train, y_test = train_test_split(train_features_N, train_label, test_size=0.2)\n",
    "dtc = DecisionTreeClassifier(max_depth = 2, min_samples_leaf = 2)\n",
    "dtc = dtc.fit(X_train, y_train)\n",
    "y_pred = dtc.predict(X_test)\n",
    "print(\"Accuracy Normalized:\",metrics.accuracy_score(y_test, y_pred))"
   ]
  },
  {
   "cell_type": "code",
   "execution_count": 6,
   "metadata": {},
   "outputs": [
    {
     "name": "stdout",
     "output_type": "stream",
     "text": [
      "Accuracy Scaled: 0.75\n",
      "f1_score Scaled: 0.7442790697674417\n"
     ]
    }
   ],
   "source": [
    "X_train, X_test, y_train, y_test = train_test_split(train_features_S, train_label, test_size=0.2)\n",
    "dtc = DecisionTreeClassifier(max_depth = 4, min_samples_leaf = 2)\n",
    "dtc = dtc.fit(X_train, y_train)\n",
    "y_pred = dtc.predict(X_test)\n",
    "print(\"Accuracy Scaled:\",metrics.accuracy_score(y_test, y_pred))\n",
    "print(\"f1_score Scaled:\",metrics.f1_score(y_test, y_pred, average='weighted'))"
   ]
  },
  {
   "cell_type": "code",
   "execution_count": 7,
   "metadata": {},
   "outputs": [],
   "source": [
    "dtc = DecisionTreeClassifier(max_depth = 2, min_samples_leaf = 2)\n",
    "dtc = dtc.fit(train_features_N, train_label)\n",
    "dtc_pred_N = dtc.predict(test_features_N)\n",
    "\n",
    "dtc = DecisionTreeClassifier(max_depth = 2, min_samples_leaf = 2)\n",
    "dtc = dtc.fit(train_features_S, train_label)\n",
    "dtc_pred_S = dtc.predict(test_features_S)"
   ]
  },
  {
   "cell_type": "markdown",
   "metadata": {},
   "source": [
    "### SVM"
   ]
  },
  {
   "cell_type": "code",
   "execution_count": 8,
   "metadata": {},
   "outputs": [],
   "source": [
    "from sklearn import svm"
   ]
  },
  {
   "cell_type": "code",
   "execution_count": 9,
   "metadata": {},
   "outputs": [
    {
     "name": "stdout",
     "output_type": "stream",
     "text": [
      "Accuracy: 0.7738095238095238\n",
      "f1_score Scaled: 0.7725585960880078\n"
     ]
    }
   ],
   "source": [
    "X_train, X_test, y_train, y_test = train_test_split(train_features_S, train_label, test_size=0.2)\n",
    "dtc = svm.SVC(kernel='linear')#, degree = 2, gamma = 10) \n",
    "dtc = dtc.fit(X_train, y_train)\n",
    "y_pred = dtc.predict(X_test)\n",
    "print(\"Accuracy:\",metrics.accuracy_score(y_test, y_pred))\n",
    "print(\"f1_score Scaled:\",metrics.f1_score(y_test, y_pred, average='weighted'))"
   ]
  },
  {
   "cell_type": "code",
   "execution_count": 10,
   "metadata": {},
   "outputs": [
    {
     "name": "stdout",
     "output_type": "stream",
     "text": [
      "Accuracy: 0.9285714285714286\n",
      "Accuracy: 0.6785714285714286\n"
     ]
    }
   ],
   "source": [
    "X_train, X_test, y_train, y_test = train_test_split(train_features_S, train_label, test_size=0.2)\n",
    "dtc = svm.SVC(kernel='poly', degree = 2, gamma = 10) \n",
    "dtc = dtc.fit(X_train, y_train)\n",
    "y_pred = dtc.predict(X_test)\n",
    "print(\"Accuracy:\",metrics.accuracy_score(y_test, y_pred))\n",
    "\n",
    "X_train, X_test, y_train, y_test = train_test_split(train_features_N, train_label, test_size=0.2)\n",
    "dtc = svm.SVC(kernel='poly', degree = 2, gamma = 10) \n",
    "dtc = dtc.fit(X_train, y_train)\n",
    "y_pred = dtc.predict(X_test)\n",
    "print(\"Accuracy:\",metrics.accuracy_score(y_test, y_pred))"
   ]
  },
  {
   "cell_type": "markdown",
   "metadata": {},
   "source": [
    "#### Accuracy for Standard Scaler is always more"
   ]
  },
  {
   "cell_type": "code",
   "execution_count": 11,
   "metadata": {},
   "outputs": [],
   "source": [
    "sv = svm.SVC(kernel='poly', degree = 2, gamma = 10) \n",
    "pv = sv.fit(train_features_S, train_label)\n",
    "sv_pred = pv.predict(test_features_S)"
   ]
  },
  {
   "cell_type": "markdown",
   "metadata": {},
   "source": [
    "### KNN"
   ]
  },
  {
   "cell_type": "code",
   "execution_count": 12,
   "metadata": {},
   "outputs": [],
   "source": [
    "from sklearn.neighbors import KNeighborsClassifier\n",
    "from sklearn import metrics"
   ]
  },
  {
   "cell_type": "code",
   "execution_count": 13,
   "metadata": {},
   "outputs": [
    {
     "name": "stdout",
     "output_type": "stream",
     "text": [
      "Accuracy: 0.8214285714285714\n",
      "f1_score Scaled: 0.8272604445945662\n"
     ]
    }
   ],
   "source": [
    "X_train, X_test, y_train, y_test = train_test_split(train_features_S, train_label, test_size=0.2)\n",
    "dtc = KNeighborsClassifier(n_neighbors = 2)\n",
    "dtc = dtc.fit(X_train, y_train)\n",
    "y_pred = dtc.predict(X_test)\n",
    "print(\"Accuracy:\",metrics.accuracy_score(y_test, y_pred))\n",
    "print(\"f1_score Scaled:\",metrics.f1_score(y_test, y_pred, average='weighted'))"
   ]
  },
  {
   "cell_type": "code",
   "execution_count": 14,
   "metadata": {
    "scrolled": true
   },
   "outputs": [
    {
     "name": "stdout",
     "output_type": "stream",
     "text": [
      "Accuracy: 0.8809523809523809\n",
      "Accuracy: 0.6309523809523809\n"
     ]
    }
   ],
   "source": [
    "X_train, X_test, y_train, y_test = train_test_split(train_features_S, train_label, test_size=0.2)\n",
    "dtc = KNeighborsClassifier(n_neighbors = 3)\n",
    "dtc = dtc.fit(X_train, y_train)\n",
    "y_pred = dtc.predict(X_test)\n",
    "print(\"Accuracy:\",metrics.accuracy_score(y_test, y_pred))\n",
    "\n",
    "X_train, X_test, y_train, y_test = train_test_split(train_features_N, train_label, test_size=0.2)\n",
    "dtc = KNeighborsClassifier(n_neighbors = 3)\n",
    "dtc = dtc.fit(X_train, y_train)\n",
    "y_pred = dtc.predict(X_test)\n",
    "print(\"Accuracy:\",metrics.accuracy_score(y_test, y_pred))"
   ]
  },
  {
   "cell_type": "code",
   "execution_count": 15,
   "metadata": {},
   "outputs": [
    {
     "name": "stdout",
     "output_type": "stream",
     "text": [
      "Accuracy: 0.7738095238095238\n"
     ]
    }
   ],
   "source": [
    "X_train, X_test, y_train, y_test = train_test_split(train_features_S, train_label, test_size=0.2)\n",
    "dtc = KNeighborsClassifier(n_neighbors = 2)\n",
    "dtc = dtc.fit(X_train, y_train)\n",
    "y_pred = dtc.predict(X_test)\n",
    "print(\"Accuracy:\",metrics.accuracy_score(y_test, y_pred))"
   ]
  },
  {
   "cell_type": "markdown",
   "metadata": {},
   "source": [
    "#### Accuracy for Standard Scaler is always more"
   ]
  },
  {
   "cell_type": "code",
   "execution_count": 16,
   "metadata": {},
   "outputs": [],
   "source": [
    "knn = KNeighborsClassifier(n_neighbors = 3)\n",
    "knn.fit(train_features_S, train_label)\n",
    "knn_pred = knn.predict(test_features_S)"
   ]
  },
  {
   "cell_type": "markdown",
   "metadata": {},
   "source": [
    "### Logistic Regression"
   ]
  },
  {
   "cell_type": "code",
   "execution_count": 17,
   "metadata": {},
   "outputs": [
    {
     "name": "stdout",
     "output_type": "stream",
     "text": [
      "Accuracy: 0.7857142857142857\n",
      "f1_score Scaled: 0.7857142857142857\n"
     ]
    }
   ],
   "source": [
    "from sklearn.linear_model import LogisticRegression\n",
    "X_train, X_test, y_train, y_test = train_test_split(train_features_S, train_label, test_size=0.2)\n",
    "dtc = LogisticRegression(random_state = 7, C = 0.3, solver = 'lbfgs', max_iter = 200)\n",
    "dtc = dtc.fit(X_train, y_train)\n",
    "y_pred = dtc.predict(X_test)\n",
    "print(\"Accuracy:\",metrics.accuracy_score(y_test, y_pred))\n",
    "print(\"f1_score Scaled:\",metrics.f1_score(y_test, y_pred, average='weighted'))"
   ]
  },
  {
   "cell_type": "code",
   "execution_count": 18,
   "metadata": {},
   "outputs": [
    {
     "name": "stdout",
     "output_type": "stream",
     "text": [
      "Accuracy: 0.8452380952380952\n",
      "Accuracy: 0.7857142857142857\n"
     ]
    }
   ],
   "source": [
    "X_train, X_test, y_train, y_test = train_test_split(train_features_S, train_label, test_size=0.2)\n",
    "dtc = LogisticRegression(random_state = 7, C = 0.1, solver = 'lbfgs', max_iter = 200)\n",
    "dtc = dtc.fit(X_train, y_train)\n",
    "y_pred = dtc.predict(X_test)\n",
    "print(\"Accuracy:\",metrics.accuracy_score(y_test, y_pred))\n",
    "\n",
    "X_train, X_test, y_train, y_test = train_test_split(train_features_N, train_label, test_size=0.2)\n",
    "dtc = LogisticRegression(random_state = 7, C = 0.1, solver = 'lbfgs', max_iter = 200)\n",
    "dtc = dtc.fit(X_train, y_train)\n",
    "y_pred = dtc.predict(X_test)\n",
    "print(\"Accuracy:\",metrics.accuracy_score(y_test, y_pred))"
   ]
  },
  {
   "cell_type": "markdown",
   "metadata": {},
   "source": [
    "#### Accuracy for Standard Scaler is always more"
   ]
  },
  {
   "cell_type": "code",
   "execution_count": 19,
   "metadata": {},
   "outputs": [],
   "source": [
    "logreg = LogisticRegression(random_state = 7, C = 0.1, solver = 'lbfgs', max_iter = 200)\n",
    "logreg.fit(train_features_S, train_label)\n",
    "log_pred = logreg.predict(test_features_S)"
   ]
  },
  {
   "cell_type": "markdown",
   "metadata": {},
   "source": [
    "### Random Forest"
   ]
  },
  {
   "cell_type": "code",
   "execution_count": 20,
   "metadata": {},
   "outputs": [
    {
     "name": "stdout",
     "output_type": "stream",
     "text": [
      "Accuracy: 0.8095238095238095\n",
      "f1_score Scaled: 0.7768707482993197\n"
     ]
    }
   ],
   "source": [
    "from sklearn.ensemble import RandomForestClassifier\n",
    "X_train, X_test, y_train, y_test = train_test_split(train_features_S, train_label, test_size=0.2)\n",
    "dtc = RandomForestClassifier(n_estimators=25)\n",
    "dtc = dtc.fit(X_train, y_train)\n",
    "y_pred = dtc.predict(X_test)\n",
    "print(\"Accuracy:\",metrics.accuracy_score(y_test, y_pred))\n",
    "print(\"f1_score Scaled:\",metrics.f1_score(y_test, y_pred, average='weighted'))"
   ]
  },
  {
   "cell_type": "code",
   "execution_count": 21,
   "metadata": {},
   "outputs": [
    {
     "name": "stdout",
     "output_type": "stream",
     "text": [
      "Accuracy: 0.75\n",
      "Accuracy: 0.8095238095238095\n"
     ]
    }
   ],
   "source": [
    "X_train, X_test, y_train, y_test = train_test_split(train_features_S, train_label, test_size=0.2)\n",
    "dtc = RandomForestClassifier(n_estimators=16)\n",
    "dtc = dtc.fit(X_train, y_train)\n",
    "y_pred = dtc.predict(X_test)\n",
    "print(\"Accuracy:\",metrics.accuracy_score(y_test, y_pred))\n",
    "\n",
    "X_train, X_test, y_train, y_test = train_test_split(train_features_N, train_label, test_size=0.2)\n",
    "dtc = RandomForestClassifier(n_estimators=16)\n",
    "dtc = dtc.fit(X_train, y_train)\n",
    "y_pred = dtc.predict(X_test)\n",
    "print(\"Accuracy:\",metrics.accuracy_score(y_test, y_pred))"
   ]
  },
  {
   "cell_type": "code",
   "execution_count": 22,
   "metadata": {},
   "outputs": [],
   "source": [
    "rf = RandomForestClassifier(n_estimators=16, min_samples_leaf = 2)\n",
    "rf.fit(train_features_N, train_label)\n",
    "rf_pred_N = rf.predict(test_features_N)\n",
    "\n",
    "rf = RandomForestClassifier(n_estimators=16, min_samples_leaf = 2)\n",
    "rf.fit(train_features_S, train_label)\n",
    "rf_pred_S = rf.predict(test_features_S)"
   ]
  },
  {
   "cell_type": "markdown",
   "metadata": {},
   "source": [
    "### Ada Boost"
   ]
  },
  {
   "cell_type": "code",
   "execution_count": 23,
   "metadata": {},
   "outputs": [],
   "source": [
    "from sklearn.ensemble import AdaBoostClassifier"
   ]
  },
  {
   "cell_type": "code",
   "execution_count": 24,
   "metadata": {},
   "outputs": [
    {
     "name": "stdout",
     "output_type": "stream",
     "text": [
      "Accuracy: 0.7619047619047619\n",
      "f1_score Scaled: 0.7543461829176114\n"
     ]
    }
   ],
   "source": [
    "X_train, X_test, y_train, y_test = train_test_split(train_features_S, train_label, test_size=0.2)\n",
    "dtc = AdaBoostClassifier(n_estimators = 8)\n",
    "dtc = dtc.fit(X_train, y_train)\n",
    "y_pred = dtc.predict(X_test)\n",
    "print(\"Accuracy:\",metrics.accuracy_score(y_test, y_pred))\n",
    "print(\"f1_score Scaled:\",metrics.f1_score(y_test, y_pred, average='weighted'))"
   ]
  },
  {
   "cell_type": "code",
   "execution_count": 25,
   "metadata": {},
   "outputs": [
    {
     "name": "stdout",
     "output_type": "stream",
     "text": [
      "Accuracy: 0.8452380952380952\n",
      "Accuracy: 0.7380952380952381\n"
     ]
    }
   ],
   "source": [
    "X_train, X_test, y_train, y_test = train_test_split(train_features_S, train_label, test_size=0.2)\n",
    "dtc = AdaBoostClassifier(n_estimators = 7)\n",
    "dtc = dtc.fit(X_train, y_train)\n",
    "y_pred = dtc.predict(X_test)\n",
    "print(\"Accuracy:\",metrics.accuracy_score(y_test, y_pred))\n",
    "\n",
    "X_train, X_test, y_train, y_test = train_test_split(train_features_N, train_label, test_size=0.2)\n",
    "dtc = AdaBoostClassifier(n_estimators = 7)\n",
    "dtc = dtc.fit(X_train, y_train)\n",
    "y_pred = dtc.predict(X_test)\n",
    "print(\"Accuracy:\",metrics.accuracy_score(y_test, y_pred))"
   ]
  },
  {
   "cell_type": "code",
   "execution_count": 26,
   "metadata": {},
   "outputs": [],
   "source": [
    "ad = AdaBoostClassifier(n_estimators = 7)\n",
    "model = ad.fit(train_features_S, train_label)\n",
    "ada_pred_S = model.predict(test_features_S)\n",
    "\n",
    "ad = AdaBoostClassifier(n_estimators = 7)\n",
    "model = ad.fit(train_features, train_label)\n",
    "ada_pred_N = model.predict(test_features_N)"
   ]
  },
  {
   "cell_type": "markdown",
   "metadata": {},
   "source": [
    "### Ensemble Learning"
   ]
  },
  {
   "cell_type": "code",
   "execution_count": 27,
   "metadata": {},
   "outputs": [],
   "source": [
    "from scipy import stats"
   ]
  },
  {
   "cell_type": "code",
   "execution_count": 28,
   "metadata": {},
   "outputs": [],
   "source": [
    "dtc_pred_N = dtc_pred_N.reshape(378,1)\n",
    "knn_pred = knn_pred.reshape(378,1)\n",
    "log_pred = log_pred.reshape(378,1)\n",
    "rf_pred_S  = rf_pred_S.reshape(378,1)\n",
    "ada_pred_S = ada_pred_S.reshape(378,1)\n",
    "sv_pred = sv_pred.reshape(378,1)\n",
    "Test = np.concatenate((knn_pred, log_pred, rf_pred_S, ada_pred_S, sv_pred), 1)"
   ]
  },
  {
   "cell_type": "code",
   "execution_count": 29,
   "metadata": {},
   "outputs": [
    {
     "name": "stderr",
     "output_type": "stream",
     "text": [
      "/usr/local/lib/python3.7/site-packages/scipy/stats/stats.py:248: RuntimeWarning: The input array could not be properly checked for nan values. nan values will be ignored.\n",
      "  \"values. nan values will be ignored.\", RuntimeWarning)\n"
     ]
    }
   ],
   "source": [
    "TestFinal = []\n",
    "for i in range(0, Test.shape[0]):\n",
    "    mode,count = stats.mode(Test[i])\n",
    "    TestFinal.append(mode[0])"
   ]
  },
  {
   "cell_type": "code",
   "execution_count": 30,
   "metadata": {},
   "outputs": [],
   "source": [
    "d = {'id': [i for i in range(418,796)], 'label': TestFinal}\n",
    "df1 = pd.DataFrame(data=d)\n",
    "df1.to_csv('result_Kaggle.csv',index = False)"
   ]
  }
 ],
 "metadata": {
  "kernelspec": {
   "display_name": "Python 3",
   "language": "python",
   "name": "python3"
  },
  "language_info": {
   "codemirror_mode": {
    "name": "ipython",
    "version": 3
   },
   "file_extension": ".py",
   "mimetype": "text/x-python",
   "name": "python",
   "nbconvert_exporter": "python",
   "pygments_lexer": "ipython3",
   "version": "3.7.3"
  }
 },
 "nbformat": 4,
 "nbformat_minor": 2
}
