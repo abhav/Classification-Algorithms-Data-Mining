{
 "cells": [
  {
   "cell_type": "code",
   "execution_count": 1,
   "metadata": {},
   "outputs": [],
   "source": [
    "import numpy as np\n",
    "import pandas as pd\n",
    "from scipy.spatial import distance\n",
    "import heapq as hq\n",
    "import math\n",
    "import sklearn\n",
    "from sklearn import preprocessing "
   ]
  },
  {
   "cell_type": "markdown",
   "metadata": {},
   "source": [
    "### Data Import"
   ]
  },
  {
   "cell_type": "code",
   "execution_count": 2,
   "metadata": {},
   "outputs": [],
   "source": [
    "def ConvertToLabel(df,pos):\n",
    "    label_encoder = preprocessing.LabelEncoder() \n",
    "    df[pos]= label_encoder.fit_transform(df[pos]) \n",
    "    return df\n",
    "\n",
    "def chunks(df, n):\n",
    "    for i in range(0, len(df), n):\n",
    "        yield df[i:i + n]"
   ]
  },
  {
   "cell_type": "markdown",
   "metadata": {},
   "source": [
    "### Data Import"
   ]
  },
  {
   "cell_type": "code",
   "execution_count": 3,
   "metadata": {},
   "outputs": [
    {
     "name": "stdout",
     "output_type": "stream",
     "text": [
      "X Shape:569 Y Shape: 31\n"
     ]
    }
   ],
   "source": [
    "X_1 = pd.read_csv(\"project3_dataset1.txt\",header=None, delimiter=\"\\t\")\n",
    "XShape, YShape = X_1.shape\n",
    "print('X Shape:' + str(XShape) + ' Y Shape: '+ str(YShape))\n",
    "Y_1 = X_1[YShape-1]\n",
    "X_1 = X_1.iloc[:, :YShape-1]\n",
    "X_1 = X_1.to_numpy()\n",
    "Y_1 = Y_1.to_numpy()\n",
    "X_1 = sklearn.preprocessing.normalize(X_1)"
   ]
  },
  {
   "cell_type": "code",
   "execution_count": 4,
   "metadata": {},
   "outputs": [
    {
     "name": "stdout",
     "output_type": "stream",
     "text": [
      "X Shape:462 Y Shape: 10\n"
     ]
    }
   ],
   "source": [
    "X_2 = pd.read_csv(\"project3_dataset2.txt\",header=None, delimiter=\"\\t\")\n",
    "XShape, YShape = X_2.shape\n",
    "print('X Shape:' + str(XShape) + ' Y Shape: '+ str(YShape))\n",
    "\n",
    "Y_2 = X_2[YShape-1]\n",
    "X_2 = ConvertToLabel(X_2,4)\n",
    "X_2 = X_2.iloc[:, :YShape-1]\n",
    "X_2 = X_2.to_numpy()\n",
    "Y_2 = Y_2.to_numpy()\n",
    "X_2 = sklearn.preprocessing.normalize(X_2)"
   ]
  },
  {
   "cell_type": "markdown",
   "metadata": {},
   "source": [
    "## Library Implementation"
   ]
  },
  {
   "cell_type": "code",
   "execution_count": 5,
   "metadata": {},
   "outputs": [],
   "source": [
    "from sklearn.neighbors import KNeighborsClassifier\n",
    "from sklearn import metrics\n",
    "from sklearn.model_selection import train_test_split"
   ]
  },
  {
   "cell_type": "code",
   "execution_count": 6,
   "metadata": {},
   "outputs": [],
   "source": [
    "X_train, X_test, y_train, y_test = train_test_split(X_1, Y_1, test_size=0.2)"
   ]
  },
  {
   "cell_type": "code",
   "execution_count": 7,
   "metadata": {},
   "outputs": [
    {
     "name": "stdout",
     "output_type": "stream",
     "text": [
      "Accuracy: 0.9210526315789473\n"
     ]
    }
   ],
   "source": [
    "knn = KNeighborsClassifier(n_neighbors = 6)\n",
    "knn.fit(X_train, y_train)\n",
    "y_pred = knn.predict(X_test)\n",
    "print(\"Accuracy:\",metrics.accuracy_score(y_test, y_pred))"
   ]
  },
  {
   "cell_type": "markdown",
   "metadata": {},
   "source": [
    "Data Set 2"
   ]
  },
  {
   "cell_type": "code",
   "execution_count": 8,
   "metadata": {},
   "outputs": [],
   "source": [
    "X_train, X_test, y_train, y_test = train_test_split(X_2, Y_2, test_size=0.3)"
   ]
  },
  {
   "cell_type": "code",
   "execution_count": 9,
   "metadata": {},
   "outputs": [
    {
     "name": "stdout",
     "output_type": "stream",
     "text": [
      "Accuracy: 0.6690647482014388\n"
     ]
    }
   ],
   "source": [
    "knn = KNeighborsClassifier(n_neighbors = 11)\n",
    "knn.fit(X_train, y_train)\n",
    "y_pred = knn.predict(X_test)\n",
    "print(\"Accuracy:\",metrics.accuracy_score(y_test, y_pred))"
   ]
  },
  {
   "cell_type": "markdown",
   "metadata": {},
   "source": [
    "## Scratch Implementation"
   ]
  },
  {
   "cell_type": "code",
   "execution_count": 10,
   "metadata": {},
   "outputs": [],
   "source": [
    "def knn(train_x, train_y, test_x, k=5):\n",
    "    predicted = []\n",
    "    for j,row in enumerate(test_x):\n",
    "        h = []\n",
    "        for i,pt in enumerate(train_x):\n",
    "            d = distance.euclidean(pt,row)\n",
    "            hq.heappush(h,(d,i))\n",
    "        h = h[:k]\n",
    "        labels = [train_y[l[1]] for l in h]\n",
    "        predicted.append(0 if labels.count(0) > labels.count(1) else 1)\n",
    "    return predicted\n",
    "\n",
    "def findPredictedClass(predicted_labels,test_y):\n",
    "    tp,tn,fp,fn = 0,0,0,0\n",
    "    for i in range(len(predicted_labels)):\n",
    "        if predicted_labels[i] == 1 and test_y[i] == 1:\n",
    "            tp+=1    \n",
    "        if predicted_labels[i] == 0 and test_y[i] == 0:\n",
    "            tn+=1\n",
    "        if predicted_labels[i] == 1 and test_y[i] == 0:\n",
    "            fp+=1\n",
    "        if predicted_labels[i] == 0 and test_y[i] == 1:\n",
    "            fn+=1\n",
    "    accuracy = (tp + tn)/(tp + tn + fp + fn)\n",
    "    precision = tp / (tp + fp)\n",
    "    recall = tp / (tp + fn)\n",
    "    fscore = 2 * (precision * recall)/(precision + recall)\n",
    "    return accuracy,precision,recall,fscore"
   ]
  },
  {
   "cell_type": "code",
   "execution_count": 11,
   "metadata": {},
   "outputs": [],
   "source": [
    "def dataProcessing(X,Y):\n",
    "    data = np.column_stack((X, Y))\n",
    "    np.random.shuffle(data)\n",
    "    RowCount = math.ceil(len(X)/10)\n",
    "    output = list(chunks(data,RowCount))\n",
    "    print('Output Count:'+str(len(output))+' Output X Shape:'+str(len(output[0]))+' Output Y Shape:'+str(len(output[0][0])))\n",
    "    return output"
   ]
  },
  {
   "cell_type": "code",
   "execution_count": 12,
   "metadata": {},
   "outputs": [],
   "source": [
    "def knnExecution(output, k):\n",
    "    totalAccuracy, totalPrecision, totalRecall, totalFscore = [],[],[],[]\n",
    "    for i in range(len(output)):\n",
    "        test_x,test_y,train_x, train_y = [], [], [], []\n",
    "        train_x = [row for j,lt in enumerate(output) if j!=i for row in lt]\n",
    "        test_x = output[i]\n",
    "        for arr in test_x:\n",
    "            test_y.append(arr[-1])\n",
    "        for arr in train_x:\n",
    "            train_y.append(arr[-1])\n",
    "        train_x = np.delete(train_x, np.s_[-1:], axis=1)\n",
    "        test_x = np.delete(test_x, np.s_[-1:], axis=1)\n",
    "\n",
    "        predicted_labels = knn(train_x, train_y, test_x, k)\n",
    "        accuracy, precision, recall, fscore = findPredictedClass(predicted_labels,test_y)\n",
    "        totalAccuracy.append(accuracy)\n",
    "        totalPrecision.append(precision)\n",
    "        totalRecall.append(recall)\n",
    "        totalFscore.append(fscore)\n",
    "\n",
    "    avgAccuracy  = np.mean(totalAccuracy)\n",
    "    avgPrecision = np.mean(totalPrecision)\n",
    "    avgRecall    = np.mean(totalRecall)\n",
    "    avgFscore    = np.mean(totalFscore)  \n",
    "    print('Avgerage Accuracy :'+ str(avgAccuracy))\n",
    "    print('Avgerage Precision :'+ str(avgPrecision))\n",
    "    print('Avgerage Recall :'+ str(avgRecall))\n",
    "    print('Avgerage Fscore :'+ str(avgFscore))"
   ]
  },
  {
   "cell_type": "code",
   "execution_count": 13,
   "metadata": {},
   "outputs": [
    {
     "name": "stdout",
     "output_type": "stream",
     "text": [
      "Output Count:10 Output X Shape:57 Output Y Shape:31\n",
      "Avgerage Accuracy :0.9296679197994988\n",
      "Avgerage Precision :0.9335805033173454\n",
      "Avgerage Recall :0.8651590228567916\n",
      "Avgerage Fscore :0.894920162322301\n"
     ]
    }
   ],
   "source": [
    "output = dataProcessing(X_1, Y_1)\n",
    "knnExecution(output, 5)"
   ]
  },
  {
   "cell_type": "code",
   "execution_count": 14,
   "metadata": {},
   "outputs": [
    {
     "name": "stdout",
     "output_type": "stream",
     "text": [
      "Output Count:10 Output X Shape:47 Output Y Shape:10\n",
      "Avgerage Accuracy :0.6334424440807419\n",
      "Avgerage Precision :0.4298448773448773\n",
      "Avgerage Recall :0.2574431734416255\n",
      "Avgerage Fscore :0.31146767408836373\n"
     ]
    }
   ],
   "source": [
    "output_2 = dataProcessing(X_2, Y_2)\n",
    "knnExecution(output_2, 11)"
   ]
  },
  {
   "cell_type": "markdown",
   "metadata": {},
   "source": [
    "## Data Set 3"
   ]
  },
  {
   "cell_type": "code",
   "execution_count": 33,
   "metadata": {},
   "outputs": [
    {
     "name": "stdout",
     "output_type": "stream",
     "text": [
      "X Shape:80 Y Shape: 5\n"
     ]
    }
   ],
   "source": [
    "TrainData = pd.read_csv(\"project3_dataset3_train.txt\",header=None, delimiter=\"\\t\")\n",
    "XShape, YShape = TrainData.shape\n",
    "print('X Shape:' + str(XShape) + ' Y Shape: '+ str(YShape))\n",
    "TrainData_Y = TrainData[YShape-1]\n",
    "TrainData_X = TrainData.iloc[:, :YShape-1]\n",
    "TrainData_X = TrainData_X.to_numpy()\n",
    "TrainData_Y = TrainData_Y.to_numpy()\n",
    "#TestData_X = sklearn.preprocessing.normalize(TestData_X)"
   ]
  },
  {
   "cell_type": "code",
   "execution_count": 34,
   "metadata": {},
   "outputs": [
    {
     "name": "stdout",
     "output_type": "stream",
     "text": [
      "X Shape:20 Y Shape: 5\n"
     ]
    }
   ],
   "source": [
    "TestData = pd.read_csv(\"project3_dataset3_test.txt\",header=None, delimiter=\"\\t\")\n",
    "XShape, YShape = TestData.shape\n",
    "print('X Shape:' + str(XShape) + ' Y Shape: '+ str(YShape))\n",
    "TestData_Y = TestData[YShape-1]\n",
    "TestData_X = TestData.iloc[:, :YShape-1]\n",
    "TestData_X = TestData_X.to_numpy()\n",
    "TestData_Y = TestData_Y.to_numpy()"
   ]
  },
  {
   "cell_type": "code",
   "execution_count": 40,
   "metadata": {},
   "outputs": [
    {
     "name": "stdout",
     "output_type": "stream",
     "text": [
      " Accuracy :0.95\n",
      " Precision :1.0\n",
      " Recall :0.9\n",
      " Fscore :0.9473684210526316\n"
     ]
    }
   ],
   "source": [
    "predicted_labels = knn(TrainData_X, TrainData_Y, TestData_X, 5)\n",
    "accuracy, precision, recall, fscore = findPredictedClass(predicted_labels,TestData_Y)\n",
    "print(' Accuracy :'+ str(accuracy))\n",
    "print(' Precision :'+ str(precision))\n",
    "print(' Recall :'+ str(recall))\n",
    "print(' Fscore :'+ str(fscore))"
   ]
  },
  {
   "cell_type": "markdown",
   "metadata": {},
   "source": [
    "## Data Set 4"
   ]
  },
  {
   "cell_type": "code",
   "execution_count": 45,
   "metadata": {},
   "outputs": [],
   "source": [
    "Data4 = pd.read_csv(\"project3_dataset4.txt\",header=None, delimiter=\"\\t\")"
   ]
  },
  {
   "cell_type": "code",
   "execution_count": 46,
   "metadata": {},
   "outputs": [],
   "source": [
    "for i in range(0,4):\n",
    "    Data4 = ConvertToLabel(Data4,i)"
   ]
  },
  {
   "cell_type": "code",
   "execution_count": 48,
   "metadata": {},
   "outputs": [
    {
     "name": "stdout",
     "output_type": "stream",
     "text": [
      "X Shape:14 Y Shape: 5\n"
     ]
    }
   ],
   "source": [
    "XShape, YShape = Data4.shape\n",
    "print('X Shape:' + str(XShape) + ' Y Shape: '+ str(YShape))\n",
    "Data4_Y = Data4[YShape-1]\n",
    "Data4_X = Data4.iloc[:, :YShape-1]\n",
    "Data4_X = Data4_X.to_numpy()\n",
    "Data4_Y = Data4_Y.to_numpy()"
   ]
  },
  {
   "cell_type": "code",
   "execution_count": 53,
   "metadata": {},
   "outputs": [],
   "source": [
    "X_train, X_test, y_train, y_test = train_test_split(Data4_X, Data4_Y, test_size=0.2)"
   ]
  },
  {
   "cell_type": "code",
   "execution_count": 54,
   "metadata": {},
   "outputs": [
    {
     "name": "stdout",
     "output_type": "stream",
     "text": [
      " Accuracy :0.6666666666666666\n",
      " Precision :1.0\n",
      " Recall :0.6666666666666666\n",
      " Fscore :0.8\n"
     ]
    }
   ],
   "source": [
    "predicted_labels = knn(X_train, y_train, X_test, 3)\n",
    "accuracy, precision, recall, fscore = findPredictedClass(predicted_labels,y_test)\n",
    "print(' Accuracy :'+ str(accuracy))\n",
    "print(' Precision :'+ str(precision))\n",
    "print(' Recall :'+ str(recall))\n",
    "print(' Fscore :'+ str(fscore))"
   ]
  },
  {
   "cell_type": "code",
   "execution_count": null,
   "metadata": {},
   "outputs": [],
   "source": []
  }
 ],
 "metadata": {
  "kernelspec": {
   "display_name": "Python 3",
   "language": "python",
   "name": "python3"
  },
  "language_info": {
   "codemirror_mode": {
    "name": "ipython",
    "version": 3
   },
   "file_extension": ".py",
   "mimetype": "text/x-python",
   "name": "python",
   "nbconvert_exporter": "python",
   "pygments_lexer": "ipython3",
   "version": "3.7.3"
  }
 },
 "nbformat": 4,
 "nbformat_minor": 2
}
