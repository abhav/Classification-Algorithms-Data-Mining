{
 "cells": [
  {
   "cell_type": "code",
   "execution_count": 2,
   "metadata": {},
   "outputs": [],
   "source": [
    "import numpy as np\n",
    "import pandas as pd\n",
    "from random import seed\n",
    "from random import *\n",
    "import time\n",
    "from math import *\n",
    "import math\n",
    "from itertools import groupby\n",
    "from collections import defaultdict\n",
    "import sklearn\n",
    "from sklearn import preprocessing "
   ]
  },
  {
   "cell_type": "markdown",
   "metadata": {},
   "source": [
    "### Data Import"
   ]
  },
  {
   "cell_type": "code",
   "execution_count": 3,
   "metadata": {},
   "outputs": [],
   "source": [
    "def ConvertToLabel(df,pos):\n",
    "    label_encoder = preprocessing.LabelEncoder() \n",
    "    df[pos]= label_encoder.fit_transform(df[pos]) \n",
    "    return df\n",
    "\n",
    "def chunks(df, n):\n",
    "    for i in range(0, len(df), n):\n",
    "        yield df[i:i + n]"
   ]
  },
  {
   "cell_type": "markdown",
   "metadata": {},
   "source": [
    "### Data Import"
   ]
  },
  {
   "cell_type": "code",
   "execution_count": 3,
   "metadata": {},
   "outputs": [
    {
     "name": "stdout",
     "output_type": "stream",
     "text": [
      "X Shape:569 Y Shape: 31\n"
     ]
    }
   ],
   "source": [
    "X_1 = pd.read_csv(\"project3_dataset1.txt\",header=None, delimiter=\"\\t\")\n",
    "XShape, YShape = X_1.shape\n",
    "print('X Shape:' + str(XShape) + ' Y Shape: '+ str(YShape))\n",
    "Y_1 = X_1[YShape-1]\n",
    "X_1 = X_1.iloc[:, :YShape-1]\n",
    "X_1 = X_1.to_numpy()\n",
    "Y_1 = Y_1.to_numpy()\n",
    "X_1 = sklearn.preprocessing.normalize(X_1)"
   ]
  },
  {
   "cell_type": "code",
   "execution_count": 4,
   "metadata": {},
   "outputs": [
    {
     "name": "stdout",
     "output_type": "stream",
     "text": [
      "X Shape:462 Y Shape: 10\n"
     ]
    }
   ],
   "source": [
    "X_2 = pd.read_csv(\"project3_dataset2.txt\",header=None, delimiter=\"\\t\")\n",
    "XShape, YShape = X_2.shape\n",
    "print('X Shape:' + str(XShape) + ' Y Shape: '+ str(YShape))\n",
    "\n",
    "Y_2 = X_2[YShape-1]\n",
    "X_2 = ConvertToLabel(X_2,4)\n",
    "X_2 = X_2.iloc[:, :YShape-1]\n",
    "X_2 = X_2.to_numpy()\n",
    "Y_2 = Y_2.to_numpy()\n",
    "#X_2 = sklearn.preprocessing.normalize(X_2)"
   ]
  },
  {
   "cell_type": "markdown",
   "metadata": {},
   "source": [
    "## Library Implementation"
   ]
  },
  {
   "cell_type": "code",
   "execution_count": 4,
   "metadata": {},
   "outputs": [],
   "source": [
    "from sklearn.tree import DecisionTreeClassifier \n",
    "from sklearn import metrics \n",
    "from sklearn.model_selection import train_test_split"
   ]
  },
  {
   "cell_type": "code",
   "execution_count": 6,
   "metadata": {},
   "outputs": [],
   "source": [
    "X_train, X_test, y_train, y_test = train_test_split(X_1, Y_1, test_size=0.2)"
   ]
  },
  {
   "cell_type": "code",
   "execution_count": 7,
   "metadata": {},
   "outputs": [
    {
     "name": "stdout",
     "output_type": "stream",
     "text": [
      "Accuracy: 0.9210526315789473\n"
     ]
    }
   ],
   "source": [
    "clf = DecisionTreeClassifier()\n",
    "clf = clf.fit(X_train,y_train)\n",
    "y_pred = clf.predict(X_test)\n",
    "print(\"Accuracy:\",metrics.accuracy_score(y_test, y_pred))"
   ]
  },
  {
   "cell_type": "markdown",
   "metadata": {},
   "source": [
    "#### Data Set 2"
   ]
  },
  {
   "cell_type": "code",
   "execution_count": 8,
   "metadata": {},
   "outputs": [],
   "source": [
    "X_train, X_test, y_train, y_test = train_test_split(X_2, Y_2, test_size=0.2)"
   ]
  },
  {
   "cell_type": "code",
   "execution_count": 9,
   "metadata": {},
   "outputs": [
    {
     "name": "stdout",
     "output_type": "stream",
     "text": [
      "Accuracy: 0.5698924731182796\n"
     ]
    }
   ],
   "source": [
    "clf = DecisionTreeClassifier()\n",
    "clf = clf.fit(X_train,y_train)\n",
    "y_pred = clf.predict(X_test)\n",
    "print(\"Accuracy:\",metrics.accuracy_score(y_test, y_pred))"
   ]
  },
  {
   "cell_type": "markdown",
   "metadata": {},
   "source": [
    "## Scratch Implementation"
   ]
  },
  {
   "cell_type": "code",
   "execution_count": 10,
   "metadata": {},
   "outputs": [],
   "source": [
    "def dataProcessing(X,Y):\n",
    "    data = np.column_stack((X, Y))\n",
    "    np.random.shuffle(data)\n",
    "    RowCount = math.ceil(len(X)/10)\n",
    "    output = list(chunks(data,RowCount))\n",
    "    print('Output Count:'+str(len(output))+' Output X Shape:'+str(len(output[0]))+' Output Y Shape:'+str(len(output[0][0])))\n",
    "    return output"
   ]
  },
  {
   "cell_type": "code",
   "execution_count": 11,
   "metadata": {},
   "outputs": [],
   "source": [
    "def findPredictedClass(predicted_labels,test_y):\n",
    "    tp, tn, fp, fn = 0, 0, 0, 0\n",
    "    for i in range(len(predicted_labels)):\n",
    "        if predicted_labels[i] == 1 and test_y[i] == 1:\n",
    "            tp += 1    \n",
    "        if predicted_labels[i] == 0 and test_y[i] == 0:\n",
    "            tn += 1\n",
    "        if predicted_labels[i] == 1 and test_y[i] == 0:\n",
    "            fp += 1\n",
    "        if predicted_labels[i] == 0 and test_y[i] == 1:\n",
    "            fn += 1\n",
    "    try:\n",
    "        accuracy = (tp + tn)/(tp + tn + fp + fn)\n",
    "    except:\n",
    "        accuracy = 0.0\n",
    "    try:\n",
    "        precision = tp / (tp + fp)\n",
    "    except:\n",
    "        precision = 0.0\n",
    "    try:\n",
    "        recall = tp / (tp + fn)\n",
    "    except:\n",
    "        recall = 0.0\n",
    "    try:\n",
    "        fscore = 2 * (precision * recall)/(precision + recall)\n",
    "    except:\n",
    "        fscore = 0.0\n",
    "    return accuracy,precision,recall,fscore"
   ]
  },
  {
   "cell_type": "code",
   "execution_count": 12,
   "metadata": {},
   "outputs": [],
   "source": [
    "def calculateGini(left, right, classes):\n",
    "    n_instances = float(len(left) + len(right))\n",
    "    gini = 0.0\n",
    "    score = 0.0\n",
    "    size = float(len(left))\n",
    "    if size != 0:\n",
    "        for class_val in classes:\n",
    "            tempList = [row[-1] for row in left]\n",
    "            p = tempList.count(class_val) / size\n",
    "            score += p * p\n",
    "        gini += (1.0 - score) * (size / n_instances)\n",
    "\n",
    "    score = 0.0\n",
    "    size = float(len(right))\n",
    "    if size != 0:\n",
    "        for class_val in classes:\n",
    "            tempList = [row[-1] for row in right] \n",
    "            p = tempList.count(class_val) / size\n",
    "            score += p * p\n",
    "        gini += (1.0 - score) * (size / n_instances)\n",
    "\n",
    "    return gini"
   ]
  },
  {
   "cell_type": "code",
   "execution_count": 13,
   "metadata": {},
   "outputs": [],
   "source": [
    "def getSplit(dataset, isRandomForest):\n",
    "    classes = list(set([row[-1] for row in dataset]))\n",
    "    indexesList = []\n",
    "\n",
    "    if isRandomForest:\n",
    "        indexesList = [x for x in range(len(dataset[0]) - 1)] \n",
    "        shuffle(indexesList)\n",
    "    else:                                               \n",
    "        indexesList = [x for x in range(len(dataset[0]) - 1)] \n",
    "        \n",
    "    index, value, score, left, right = inf, inf, inf, None, None\n",
    "\n",
    "    for i in indexesList:\n",
    "        for row in dataset:\n",
    "            l, r = [], []\n",
    "            for d in dataset:\n",
    "                if d[i] < row[i]: l.append(d)\n",
    "                else:             r.append(d)\n",
    "            gini = calculateGini(l, r, classes)\n",
    "            if gini <= score:\n",
    "                index, value, score, left, right = i, row[i], gini, l, r\n",
    "    print(gini)\n",
    "    return {'index': index, 'value': value, 'leftHalf': left, 'rightHalf': right}"
   ]
  },
  {
   "cell_type": "code",
   "execution_count": 14,
   "metadata": {},
   "outputs": [],
   "source": [
    "def terminal(group):\n",
    "    outcomes = [row[-1] for row in group]\n",
    "    d = defaultdict(float)\n",
    "    for i in outcomes:\n",
    "        d[i] += 1\n",
    "    result = max(d.items(), key=lambda x: x[1])\n",
    "    return result[0]"
   ]
  },
  {
   "cell_type": "code",
   "execution_count": 15,
   "metadata": {},
   "outputs": [],
   "source": [
    "def nodeSplit(node, depth, isRandomForest):\n",
    "    left, right = node['leftHalf'], node['rightHalf']\n",
    "    \n",
    "    del (node['leftHalf'])\n",
    "    del (node['rightHalf'])\n",
    "\n",
    "    if not left or not right:\n",
    "        node['left'] = node['right'] = terminal(left + right)\n",
    "        return\n",
    "\n",
    "    if depth >= maxDepth:\n",
    "        node['left'], node['right'] = terminal(left), terminal(right)\n",
    "        return\n",
    "\n",
    "    if len(left) <= minSize:\n",
    "        node['left'] = terminal(left)\n",
    "    else:\n",
    "        node['left'] = getSplit(left, isRandomForest)\n",
    "        nodeSplit(node['left'], depth + 1, isRandomForest)\n",
    "\n",
    "    if len(right) <= minSize:\n",
    "        node['right'] = terminal(right)\n",
    "    else:\n",
    "        node['right'] = getSplit(right, isRandomForest)\n",
    "        nodeSplit(node['right'], depth + 1, isRandomForest)\n"
   ]
  },
  {
   "cell_type": "code",
   "execution_count": 16,
   "metadata": {},
   "outputs": [],
   "source": [
    "def predict(node, row):\n",
    "    if row[node['index']] < node['value']:\n",
    "        if isinstance(node['left'], dict):\n",
    "            return predict(node['left'], row)\n",
    "        else:\n",
    "            return node['left']\n",
    "    else:\n",
    "        if isinstance(node['right'], dict):\n",
    "            return predict(node['right'], row)\n",
    "        else:\n",
    "            return node['right']"
   ]
  },
  {
   "cell_type": "code",
   "execution_count": 17,
   "metadata": {},
   "outputs": [],
   "source": [
    "def buildTree(train, isRandomForest):\n",
    "    root = getSplit(train, isRandomForest)\n",
    "    nodeSplit(root, 1, isRandomForest)\n",
    "    return root\n",
    "\n",
    "def buildDecisionTree(train, test):\n",
    "    tree = buildTree(train, False)\n",
    "    predictions = list()\n",
    "    for row in test:\n",
    "        prediction = predict(tree, row)\n",
    "        predictions.append(prediction)\n",
    "    return (predictions), tree"
   ]
  },
  {
   "cell_type": "code",
   "execution_count": 18,
   "metadata": {},
   "outputs": [],
   "source": [
    "def decisionTrees(output):\n",
    "    totalAccuracy, totalPrecision, totalRecall, totalFscore = [],[],[],[]\n",
    "    for i in range(len(output)):\n",
    "        test_x,test_y,train_x = [], [], []\n",
    "        train_x = [row for j,lt in enumerate(output) if j!=i for row in lt]\n",
    "        test_x = output[i]\n",
    "        for arr in test_x:\n",
    "            test_y.append(arr[-1])\n",
    "        predicted_labels, tree = buildDecisionTree(train_x, test_x)\n",
    "        accuracy, precision, recall, fscore = findPredictedClass(predicted_labels,test_y)\n",
    "        print('Round '+ str(i) + ' accuracy:' + str(accuracy))\n",
    "        totalAccuracy.append(accuracy)\n",
    "        totalPrecision.append(precision)\n",
    "        totalRecall.append(recall)\n",
    "        totalFscore.append(fscore)\n",
    "\n",
    "    avgAccuracy  = np.mean(totalAccuracy)\n",
    "    avgPrecision = np.mean(totalPrecision)\n",
    "    avgRecall    = np.mean(totalRecall)\n",
    "    avgFscore    = np.mean(totalFscore)  \n",
    "    print('\\n')\n",
    "    print('Avgerage Accuracy :'+ str(avgAccuracy))\n",
    "    print('Avgerage Precision :'+ str(avgPrecision))\n",
    "    print('Avgerage Recall :'+ str(avgRecall))\n",
    "    print('Avgerage Fscore :'+ str(avgFscore))\n"
   ]
  },
  {
   "cell_type": "markdown",
   "metadata": {},
   "source": [
    "#### DataSet 1"
   ]
  },
  {
   "cell_type": "code",
   "execution_count": 22,
   "metadata": {},
   "outputs": [],
   "source": [
    "maxDepth = 3\n",
    "minSize = 1"
   ]
  },
  {
   "cell_type": "code",
   "execution_count": 20,
   "metadata": {
    "scrolled": false
   },
   "outputs": [
    {
     "name": "stdout",
     "output_type": "stream",
     "text": [
      "Output Count:10 Output X Shape:57 Output Y Shape:31\n",
      "Round 0 accuracy:0.8421052631578947\n",
      "Round 1 accuracy:0.9122807017543859\n",
      "Round 2 accuracy:0.9298245614035088\n",
      "Round 3 accuracy:1.0\n",
      "Round 4 accuracy:0.9649122807017544\n",
      "Round 5 accuracy:0.9473684210526315\n",
      "Round 6 accuracy:0.9473684210526315\n",
      "Round 7 accuracy:0.9298245614035088\n",
      "Round 8 accuracy:0.9473684210526315\n",
      "Round 9 accuracy:0.9821428571428571\n",
      "\n",
      "\n",
      "Avgerage Accuracy :0.9403195488721805\n",
      "Avgerage Precision :0.9530796193382006\n",
      "Avgerage Recall :0.8836929446318328\n",
      "Avgerage Fscore :0.9136694195706081\n"
     ]
    }
   ],
   "source": [
    "output = dataProcessing(X_1, Y_1)\n",
    "decisionTrees(output)"
   ]
  },
  {
   "cell_type": "markdown",
   "metadata": {},
   "source": [
    "#### DataSet 2"
   ]
  },
  {
   "cell_type": "code",
   "execution_count": 21,
   "metadata": {
    "scrolled": false
   },
   "outputs": [
    {
     "name": "stdout",
     "output_type": "stream",
     "text": [
      "Output Count:10 Output X Shape:47 Output Y Shape:10\n",
      "Round 0 accuracy:0.6808510638297872\n",
      "Round 1 accuracy:0.7446808510638298\n",
      "Round 2 accuracy:0.7021276595744681\n",
      "Round 3 accuracy:0.8297872340425532\n",
      "Round 4 accuracy:0.8297872340425532\n",
      "Round 5 accuracy:0.6595744680851063\n",
      "Round 6 accuracy:0.7659574468085106\n",
      "Round 7 accuracy:0.723404255319149\n",
      "Round 8 accuracy:0.574468085106383\n",
      "Round 9 accuracy:0.6410256410256411\n",
      "\n",
      "\n",
      "Avgerage Accuracy :0.7151663938897982\n",
      "Avgerage Precision :0.6254044566544567\n",
      "Avgerage Recall :0.4997252747252747\n",
      "Avgerage Fscore :0.5403375813539153\n"
     ]
    }
   ],
   "source": [
    "output = dataProcessing(X_2, Y_2)\n",
    "decisionTrees(output)"
   ]
  },
  {
   "cell_type": "markdown",
   "metadata": {},
   "source": [
    "#### DataSet 3"
   ]
  },
  {
   "cell_type": "code",
   "execution_count": 22,
   "metadata": {},
   "outputs": [
    {
     "name": "stdout",
     "output_type": "stream",
     "text": [
      "X Shape:80 Y Shape: 5\n"
     ]
    }
   ],
   "source": [
    "TrainData = pd.read_csv(\"project3_dataset3_train.txt\",header=None, delimiter=\"\\t\")\n",
    "XShape, YShape = TrainData.shape\n",
    "print('X Shape:' + str(XShape) + ' Y Shape: '+ str(YShape))\n",
    "#TrainData_Y = TrainData[YShape-1]\n",
    "#TrainData_X = TrainData.iloc[:, :YShape-1]\n",
    "#TrainData_X = TrainData_X.to_numpy()\n",
    "#TrainData_Y = TrainData_Y.to_numpy()\n",
    "#TestData_X = sklearn.preprocessing.normalize(TestData_X)\n",
    "TrainData = TrainData.to_numpy()"
   ]
  },
  {
   "cell_type": "code",
   "execution_count": 23,
   "metadata": {},
   "outputs": [
    {
     "name": "stdout",
     "output_type": "stream",
     "text": [
      "X Shape:20 Y Shape: 5\n"
     ]
    }
   ],
   "source": [
    "TestData = pd.read_csv(\"project3_dataset3_test.txt\",header=None, delimiter=\"\\t\")\n",
    "XShape, YShape = TestData.shape\n",
    "print('X Shape:' + str(XShape) + ' Y Shape: '+ str(YShape))\n",
    "TestData_Y = TestData[YShape-1]\n",
    "#TestData_X = TestData.iloc[:, :YShape-1]\n",
    "TestData = TestData.to_numpy()\n",
    "TestData_Y = TestData_Y.to_numpy()"
   ]
  },
  {
   "cell_type": "code",
   "execution_count": null,
   "metadata": {},
   "outputs": [
    {
     "name": "stdout",
     "output_type": "stream",
     "text": [
      " Accuracy :1.0\n",
      " Precision :1.0\n",
      " Recall :1.0\n",
      " Fscore :1.0\n"
     ]
    }
   ],
   "source": [
    "predicted_labels, tree = buildDecisionTree(TrainData, TestData)\n",
    "accuracy, precision, recall, fscore = findPredictedClass(predicted_labels,TestData_Y)\n",
    "print(' Accuracy :'+ str(accuracy))\n",
    "print(' Precision :'+ str(precision))\n",
    "print(' Recall :'+ str(recall))\n",
    "print(' Fscore :'+ str(fscore))"
   ]
  },
  {
   "cell_type": "code",
   "execution_count": null,
   "metadata": {},
   "outputs": [
    {
     "data": {
      "text/plain": [
       "{'index': 2,\n",
       " 'value': 4.8,\n",
       " 'left': {'index': 3,\n",
       "  'value': 1.7,\n",
       "  'left': {'index': 3, 'value': 1.5, 'left': 0.0, 'right': 0.0},\n",
       "  'right': 1.0},\n",
       " 'right': {'index': 3,\n",
       "  'value': 1.8,\n",
       "  'left': {'index': 2, 'value': 5.6, 'left': 0.0, 'right': 1.0},\n",
       "  'right': {'index': 2, 'value': 4.9, 'left': 1.0, 'right': 1.0}}}"
      ]
     },
     "execution_count": 25,
     "metadata": {},
     "output_type": "execute_result"
    }
   ],
   "source": [
    "tree"
   ]
  },
  {
   "cell_type": "markdown",
   "metadata": {},
   "source": [
    "#### DataSet 4"
   ]
  },
  {
   "cell_type": "code",
   "execution_count": 5,
   "metadata": {},
   "outputs": [],
   "source": [
    "Data4 = pd.read_csv(\"project3_dataset4.txt\",header=None, delimiter=\"\\t\")"
   ]
  },
  {
   "cell_type": "code",
   "execution_count": 15,
   "metadata": {},
   "outputs": [
    {
     "data": {
      "text/plain": [
       "array([[2, 1, 0, 1],\n",
       "       [2, 1, 0, 0],\n",
       "       [1, 2, 0, 0],\n",
       "       [1, 0, 1, 0],\n",
       "       [2, 2, 0, 1],\n",
       "       [1, 2, 0, 1],\n",
       "       [1, 0, 1, 1],\n",
       "       [0, 0, 1, 0],\n",
       "       [2, 0, 1, 1],\n",
       "       [1, 2, 1, 1],\n",
       "       [2, 2, 1, 0],\n",
       "       [0, 2, 0, 0],\n",
       "       [0, 1, 1, 1],\n",
       "       [0, 1, 0, 1]])"
      ]
     },
     "execution_count": 15,
     "metadata": {},
     "output_type": "execute_result"
    }
   ],
   "source": [
    "X_train"
   ]
  },
  {
   "cell_type": "code",
   "execution_count": 6,
   "metadata": {
    "scrolled": true
   },
   "outputs": [
    {
     "data": {
      "text/html": [
       "<div>\n",
       "<style scoped>\n",
       "    .dataframe tbody tr th:only-of-type {\n",
       "        vertical-align: middle;\n",
       "    }\n",
       "\n",
       "    .dataframe tbody tr th {\n",
       "        vertical-align: top;\n",
       "    }\n",
       "\n",
       "    .dataframe thead th {\n",
       "        text-align: right;\n",
       "    }\n",
       "</style>\n",
       "<table border=\"1\" class=\"dataframe\">\n",
       "  <thead>\n",
       "    <tr style=\"text-align: right;\">\n",
       "      <th></th>\n",
       "      <th>0</th>\n",
       "      <th>1</th>\n",
       "      <th>2</th>\n",
       "      <th>3</th>\n",
       "      <th>4</th>\n",
       "    </tr>\n",
       "  </thead>\n",
       "  <tbody>\n",
       "    <tr>\n",
       "      <th>0</th>\n",
       "      <td>sunny</td>\n",
       "      <td>hot</td>\n",
       "      <td>high</td>\n",
       "      <td>weak</td>\n",
       "      <td>0</td>\n",
       "    </tr>\n",
       "    <tr>\n",
       "      <th>1</th>\n",
       "      <td>sunny</td>\n",
       "      <td>hot</td>\n",
       "      <td>high</td>\n",
       "      <td>strong</td>\n",
       "      <td>0</td>\n",
       "    </tr>\n",
       "    <tr>\n",
       "      <th>2</th>\n",
       "      <td>rain</td>\n",
       "      <td>mild</td>\n",
       "      <td>high</td>\n",
       "      <td>strong</td>\n",
       "      <td>0</td>\n",
       "    </tr>\n",
       "    <tr>\n",
       "      <th>3</th>\n",
       "      <td>rain</td>\n",
       "      <td>cool</td>\n",
       "      <td>normal</td>\n",
       "      <td>strong</td>\n",
       "      <td>0</td>\n",
       "    </tr>\n",
       "    <tr>\n",
       "      <th>4</th>\n",
       "      <td>sunny</td>\n",
       "      <td>mild</td>\n",
       "      <td>high</td>\n",
       "      <td>weak</td>\n",
       "      <td>0</td>\n",
       "    </tr>\n",
       "    <tr>\n",
       "      <th>5</th>\n",
       "      <td>rain</td>\n",
       "      <td>mild</td>\n",
       "      <td>high</td>\n",
       "      <td>weak</td>\n",
       "      <td>1</td>\n",
       "    </tr>\n",
       "    <tr>\n",
       "      <th>6</th>\n",
       "      <td>rain</td>\n",
       "      <td>cool</td>\n",
       "      <td>normal</td>\n",
       "      <td>weak</td>\n",
       "      <td>1</td>\n",
       "    </tr>\n",
       "    <tr>\n",
       "      <th>7</th>\n",
       "      <td>overcast</td>\n",
       "      <td>cool</td>\n",
       "      <td>normal</td>\n",
       "      <td>strong</td>\n",
       "      <td>1</td>\n",
       "    </tr>\n",
       "    <tr>\n",
       "      <th>8</th>\n",
       "      <td>sunny</td>\n",
       "      <td>cool</td>\n",
       "      <td>normal</td>\n",
       "      <td>weak</td>\n",
       "      <td>1</td>\n",
       "    </tr>\n",
       "    <tr>\n",
       "      <th>9</th>\n",
       "      <td>rain</td>\n",
       "      <td>mild</td>\n",
       "      <td>normal</td>\n",
       "      <td>weak</td>\n",
       "      <td>1</td>\n",
       "    </tr>\n",
       "    <tr>\n",
       "      <th>10</th>\n",
       "      <td>sunny</td>\n",
       "      <td>mild</td>\n",
       "      <td>normal</td>\n",
       "      <td>strong</td>\n",
       "      <td>1</td>\n",
       "    </tr>\n",
       "    <tr>\n",
       "      <th>11</th>\n",
       "      <td>overcast</td>\n",
       "      <td>mild</td>\n",
       "      <td>high</td>\n",
       "      <td>strong</td>\n",
       "      <td>1</td>\n",
       "    </tr>\n",
       "    <tr>\n",
       "      <th>12</th>\n",
       "      <td>overcast</td>\n",
       "      <td>hot</td>\n",
       "      <td>normal</td>\n",
       "      <td>weak</td>\n",
       "      <td>1</td>\n",
       "    </tr>\n",
       "    <tr>\n",
       "      <th>13</th>\n",
       "      <td>overcast</td>\n",
       "      <td>hot</td>\n",
       "      <td>high</td>\n",
       "      <td>weak</td>\n",
       "      <td>1</td>\n",
       "    </tr>\n",
       "  </tbody>\n",
       "</table>\n",
       "</div>"
      ],
      "text/plain": [
       "           0     1       2       3  4\n",
       "0      sunny   hot    high    weak  0\n",
       "1      sunny   hot    high  strong  0\n",
       "2       rain  mild    high  strong  0\n",
       "3       rain  cool  normal  strong  0\n",
       "4      sunny  mild    high    weak  0\n",
       "5       rain  mild    high    weak  1\n",
       "6       rain  cool  normal    weak  1\n",
       "7   overcast  cool  normal  strong  1\n",
       "8      sunny  cool  normal    weak  1\n",
       "9       rain  mild  normal    weak  1\n",
       "10     sunny  mild  normal  strong  1\n",
       "11  overcast  mild    high  strong  1\n",
       "12  overcast   hot  normal    weak  1\n",
       "13  overcast   hot    high    weak  1"
      ]
     },
     "execution_count": 6,
     "metadata": {},
     "output_type": "execute_result"
    }
   ],
   "source": [
    "Data4"
   ]
  },
  {
   "cell_type": "code",
   "execution_count": 7,
   "metadata": {},
   "outputs": [],
   "source": [
    "for i in range(0,4):\n",
    "    Data4 = ConvertToLabel(Data4,i)\n",
    "\n",
    "#Data4 = Data4.to_numpy()\n",
    "X_train = Data4.iloc[:, :4]\n",
    "y_train = Data4[4]\n",
    "#Data4 = Data4.to_numpy()"
   ]
  },
  {
   "cell_type": "code",
   "execution_count": 8,
   "metadata": {},
   "outputs": [],
   "source": [
    "X_train = X_train.to_numpy()\n",
    "y_train = y_train.to_numpy()"
   ]
  },
  {
   "cell_type": "code",
   "execution_count": 9,
   "metadata": {},
   "outputs": [
    {
     "name": "stdout",
     "output_type": "stream",
     "text": [
      "Collecting python-graphviz\n",
      "\u001b[31m  Could not find a version that satisfies the requirement python-graphviz (from versions: )\u001b[0m\n",
      "\u001b[31mNo matching distribution found for python-graphviz\u001b[0m\n",
      "Note: you may need to restart the kernel to use updated packages.\n"
     ]
    }
   ],
   "source": [
    "pip install python-graphviz"
   ]
  },
  {
   "cell_type": "code",
   "execution_count": 14,
   "metadata": {},
   "outputs": [
    {
     "name": "stdout",
     "output_type": "stream",
     "text": [
      "\n",
      "^\n",
      "Expected {'graph' | 'digraph'} (at char 0), (line:1, col:1)\n"
     ]
    }
   ],
   "source": [
    "from sklearn.tree import export_graphviz\n",
    "from sklearn.externals.six import StringIO  \n",
    "from IPython.display import Image  \n",
    "import pydotplus\n",
    "\n",
    "clf = DecisionTreeClassifier()\n",
    "clf = clf.fit(X_train,y_train)\n",
    "clf.tree_\n",
    "\n",
    "dot_data = StringIO()\n",
    "export_graphviz(clf, out_file='tree.dot', filled=True, rounded=True, special_characters=True,class_names=['0','1'])\n",
    "graph = pydotplus.graph_from_dot_data(dot_data.getvalue())  \n",
    "#graph.write_png('diabetes.png')\n",
    "#Image(graph.create_png())\n",
    "#graph"
   ]
  },
  {
   "cell_type": "code",
   "execution_count": 26,
   "metadata": {},
   "outputs": [],
   "source": [
    "maxDepth = 3"
   ]
  },
  {
   "cell_type": "code",
   "execution_count": 27,
   "metadata": {},
   "outputs": [
    {
     "name": "stdout",
     "output_type": "stream",
     "text": [
      "0.42857142857142855\n",
      "0.0\n",
      "0.0\n",
      "0.0\n",
      "0.5\n",
      "0.26666666666666666\n",
      "0.31999999999999984\n"
     ]
    },
    {
     "data": {
      "text/plain": [
       "{'index': 0,\n",
       " 'value': 'rain',\n",
       " 'left': {'index': 3,\n",
       "  'value': 'weak',\n",
       "  'left': {'index': 3, 'value': 'strong', 'left': 1, 'right': 1},\n",
       "  'right': {'index': 3, 'value': 'weak', 'left': 1, 'right': 1}},\n",
       " 'right': {'index': 2,\n",
       "  'value': 'normal',\n",
       "  'left': {'index': 0, 'value': 'sunny', 'left': 0, 'right': 0},\n",
       "  'right': {'index': 3, 'value': 'weak', 'left': 0, 'right': 1}}}"
      ]
     },
     "execution_count": 27,
     "metadata": {},
     "output_type": "execute_result"
    }
   ],
   "source": [
    "buildTree(Data4, False)"
   ]
  },
  {
   "cell_type": "code",
   "execution_count": null,
   "metadata": {},
   "outputs": [],
   "source": [
    "Data4 = pd.read_csv(\"project3_dataset4.txt\",header=None, delimiter=\"\\t\")"
   ]
  },
  {
   "cell_type": "code",
   "execution_count": null,
   "metadata": {},
   "outputs": [],
   "source": [
    "for i in range(0,4):\n",
    "    Data4 = ConvertToLabel(Data4,i)\n",
    "Data4 = Data4.to_numpy()"
   ]
  },
  {
   "cell_type": "code",
   "execution_count": null,
   "metadata": {},
   "outputs": [
    {
     "data": {
      "text/plain": [
       "{'index': 0,\n",
       " 'value': 1,\n",
       " 'left': {'index': 3,\n",
       "  'value': 1,\n",
       "  'left': {'index': 3, 'value': 0, 'left': 1, 'right': 1},\n",
       "  'right': {'index': 3, 'value': 1, 'left': 1, 'right': 1}},\n",
       " 'right': {'index': 2,\n",
       "  'value': 1,\n",
       "  'left': {'index': 0, 'value': 2, 'left': 0, 'right': 0},\n",
       "  'right': {'index': 3, 'value': 1, 'left': 0, 'right': 1}}}"
      ]
     },
     "execution_count": 31,
     "metadata": {},
     "output_type": "execute_result"
    }
   ],
   "source": [
    "buildTree(Data4, False)"
   ]
  },
  {
   "cell_type": "markdown",
   "metadata": {},
   "source": [
    "## Random Forest"
   ]
  },
  {
   "cell_type": "code",
   "execution_count": null,
   "metadata": {},
   "outputs": [],
   "source": [
    "def makeSubSample(dataset):\n",
    "    sample = list()\n",
    "    size = len(dataset)\n",
    "    sampleCount = round(size * samplingRatio)\n",
    "    indexes = [randint(0, size - 1) for x in range(sampleCount)]\n",
    "    for i in indexes:\n",
    "        sample.append(dataset[i])\n",
    "    return sample"
   ]
  },
  {
   "cell_type": "code",
   "execution_count": null,
   "metadata": {},
   "outputs": [],
   "source": [
    "def baggingPrediction(trees, row):\n",
    "    predictions = [predict(tree, row) for tree in trees]\n",
    "    return max(set(predictions), key=predictions.count)"
   ]
  },
  {
   "cell_type": "code",
   "execution_count": null,
   "metadata": {},
   "outputs": [],
   "source": [
    "def buildRandomForest(train, test, treesCount):\n",
    "    trees = list()\n",
    "    for i in range(treesCount):\n",
    "        sample = makeSubSample(train)\n",
    "        tree = buildTree(sample, True)\n",
    "        trees.append(tree)\n",
    "    predictions = [baggingPrediction(trees, row) for row in test]\n",
    "    return (predictions)"
   ]
  },
  {
   "cell_type": "code",
   "execution_count": null,
   "metadata": {},
   "outputs": [],
   "source": [
    "def randomForest(output):\n",
    "    for j in [1, 5, 10]:\n",
    "        totalAccuracy, totalPrecision, totalRecall, totalFscore = [],[],[],[]\n",
    "        print('Tree Size: ' + str(j))\n",
    "        for i in range(len(output)):\n",
    "            test_x,test_y,train_x = [], [], []\n",
    "            train_x = [row for j,lt in enumerate(output) if j!=i for row in lt]\n",
    "            test_x = output[i]\n",
    "            for arr in test_x:\n",
    "                test_y.append(arr[-1])\n",
    "            predicted_labels = buildRandomForest(train_x, test_x, j)\n",
    "            accuracy, precision, recall, fscore = findPredictedClass(predicted_labels,test_y)\n",
    "            #print('Round '+ str(i) + ' accuracy:' + str(accuracy))\n",
    "            totalAccuracy.append(accuracy)\n",
    "            totalPrecision.append(precision)\n",
    "            totalRecall.append(recall)\n",
    "            totalFscore.append(fscore)\n",
    "\n",
    "        avgAccuracy  = np.mean(totalAccuracy)\n",
    "        avgPrecision = np.mean(totalPrecision)\n",
    "        avgRecall    = np.mean(totalRecall)\n",
    "        avgFscore    = np.mean(totalFscore)  \n",
    "        print('-------------------------------------')\n",
    "        print('Avgerage Accuracy :'+ str(avgAccuracy))\n",
    "        print('Avgerage Precision :'+ str(avgPrecision))\n",
    "        print('Avgerage Recall :'+ str(avgRecall))\n",
    "        print('Avgerage Fscore :'+ str(avgFscore))\n",
    "        print('-------------------------------------')"
   ]
  },
  {
   "cell_type": "code",
   "execution_count": null,
   "metadata": {},
   "outputs": [],
   "source": [
    "maxDepth = 1\n",
    "minSize = 1\n",
    "samplingRatio = 1.0"
   ]
  },
  {
   "cell_type": "markdown",
   "metadata": {},
   "source": [
    "#### DataSet 1"
   ]
  },
  {
   "cell_type": "code",
   "execution_count": null,
   "metadata": {
    "scrolled": false
   },
   "outputs": [
    {
     "name": "stdout",
     "output_type": "stream",
     "text": [
      "Output Count:10 Output X Shape:57 Output Y Shape:31\n",
      "Tree Size: 1\n",
      "-------------------------------------\n",
      "Avgerage Accuracy :0.906954887218045\n",
      "Avgerage Precision :0.9193001735106998\n",
      "Avgerage Recall :0.8274155611741424\n",
      "Avgerage Fscore :0.8639427527919796\n",
      "-------------------------------------\n",
      "Tree Size: 5\n",
      "-------------------------------------\n",
      "Avgerage Accuracy :0.9174812030075188\n",
      "Avgerage Precision :0.9367884076707608\n",
      "Avgerage Recall :0.8379234743136346\n",
      "Avgerage Fscore :0.8824394451717701\n",
      "-------------------------------------\n",
      "Tree Size: 10\n"
     ]
    }
   ],
   "source": [
    "output = dataProcessing(X_1, Y_1)\n",
    "randomForest(output)"
   ]
  },
  {
   "cell_type": "markdown",
   "metadata": {},
   "source": [
    "#### DataSet 2"
   ]
  },
  {
   "cell_type": "code",
   "execution_count": null,
   "metadata": {
    "scrolled": false
   },
   "outputs": [],
   "source": [
    "output = dataProcessing(X_2, Y_2)\n",
    "randomForest(output)"
   ]
  },
  {
   "cell_type": "code",
   "execution_count": null,
   "metadata": {},
   "outputs": [],
   "source": []
  }
 ],
 "metadata": {
  "kernelspec": {
   "display_name": "Python 3",
   "language": "python",
   "name": "python3"
  },
  "language_info": {
   "codemirror_mode": {
    "name": "ipython",
    "version": 3
   },
   "file_extension": ".py",
   "mimetype": "text/x-python",
   "name": "python",
   "nbconvert_exporter": "python",
   "pygments_lexer": "ipython3",
   "version": "3.7.3"
  }
 },
 "nbformat": 4,
 "nbformat_minor": 2
}
