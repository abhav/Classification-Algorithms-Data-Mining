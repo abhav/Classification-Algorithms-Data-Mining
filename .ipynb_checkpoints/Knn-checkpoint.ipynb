{
 "cells": [
  {
   "cell_type": "code",
   "execution_count": 1,
   "metadata": {},
   "outputs": [],
   "source": [
    "import numpy as np\n",
    "import pandas as pd\n",
    "from scipy.spatial import distance\n",
    "import heapq as hq\n",
    "import math\n",
    "import sklearn\n",
    "from sklearn import preprocessing "
   ]
  },
  {
   "cell_type": "markdown",
   "metadata": {},
   "source": [
    "### Data Import"
   ]
  },
  {
   "cell_type": "code",
   "execution_count": 2,
   "metadata": {},
   "outputs": [],
   "source": [
    "def ConvertToLabel(df,pos):\n",
    "    label_encoder = preprocessing.LabelEncoder() \n",
    "    df[pos]= label_encoder.fit_transform(df[pos]) \n",
    "    return df\n",
    "\n",
    "def chunks(df, n):\n",
    "    for i in range(0, len(df), n):\n",
    "        yield df[i:i + n]"
   ]
  },
  {
   "cell_type": "markdown",
   "metadata": {},
   "source": [
    "### Data Import"
   ]
  },
  {
   "cell_type": "code",
   "execution_count": 3,
   "metadata": {},
   "outputs": [
    {
     "name": "stdout",
     "output_type": "stream",
     "text": [
      "X Shape:569 Y Shape: 31\n"
     ]
    }
   ],
   "source": [
    "X_1 = pd.read_csv(\"project3_dataset1.txt\",header=None, delimiter=\"\\t\")\n",
    "XShape, YShape = X_1.shape\n",
    "print('X Shape:' + str(XShape) + ' Y Shape: '+ str(YShape))\n",
    "Y_1 = X_1[YShape-1]\n",
    "X_1 = X_1.iloc[:, :YShape-1]\n",
    "X_1 = X_1.to_numpy()\n",
    "Y_1 = Y_1.to_numpy()\n",
    "X_1 = sklearn.preprocessing.normalize(X_1)"
   ]
  },
  {
   "cell_type": "code",
   "execution_count": 4,
   "metadata": {},
   "outputs": [
    {
     "name": "stdout",
     "output_type": "stream",
     "text": [
      "X Shape:462 Y Shape: 10\n"
     ]
    }
   ],
   "source": [
    "X_2 = pd.read_csv(\"project3_dataset2.txt\",header=None, delimiter=\"\\t\")\n",
    "XShape, YShape = X_2.shape\n",
    "print('X Shape:' + str(XShape) + ' Y Shape: '+ str(YShape))\n",
    "\n",
    "Y_2 = X_2[YShape-1]\n",
    "X_2 = ConvertToLabel(X_2,4)\n",
    "X_2 = X_2.iloc[:, :YShape-1]\n",
    "X_2 = X_2.to_numpy()\n",
    "Y_2 = Y_2.to_numpy()\n",
    "X_2 = sklearn.preprocessing.normalize(X_2)"
   ]
  },
  {
   "cell_type": "markdown",
   "metadata": {},
   "source": [
    "## Library Implementation"
   ]
  },
  {
   "cell_type": "code",
   "execution_count": 5,
   "metadata": {},
   "outputs": [],
   "source": [
    "from sklearn.neighbors import KNeighborsClassifier\n",
    "from sklearn import metrics\n",
    "from sklearn.model_selection import train_test_split"
   ]
  },
  {
   "cell_type": "code",
   "execution_count": 6,
   "metadata": {},
   "outputs": [],
   "source": [
    "X_train, X_test, y_train, y_test = train_test_split(X_1, Y_1, test_size=0.2)"
   ]
  },
  {
   "cell_type": "code",
   "execution_count": 7,
   "metadata": {},
   "outputs": [
    {
     "name": "stdout",
     "output_type": "stream",
     "text": [
      "Accuracy: 0.9385964912280702\n"
     ]
    }
   ],
   "source": [
    "knn = KNeighborsClassifier(n_neighbors = 6)\n",
    "knn.fit(X_train, y_train)\n",
    "y_pred = knn.predict(X_test)\n",
    "print(\"Accuracy:\",metrics.accuracy_score(y_test, y_pred))"
   ]
  },
  {
   "cell_type": "markdown",
   "metadata": {},
   "source": [
    "Data Set 2"
   ]
  },
  {
   "cell_type": "code",
   "execution_count": 8,
   "metadata": {},
   "outputs": [],
   "source": [
    "X_train, X_test, y_train, y_test = train_test_split(X_2, Y_2, test_size=0.3)"
   ]
  },
  {
   "cell_type": "code",
   "execution_count": 9,
   "metadata": {},
   "outputs": [
    {
     "name": "stdout",
     "output_type": "stream",
     "text": [
      "Accuracy: 0.6546762589928058\n"
     ]
    }
   ],
   "source": [
    "knn = KNeighborsClassifier(n_neighbors = 11)\n",
    "knn.fit(X_train, y_train)\n",
    "y_pred = knn.predict(X_test)\n",
    "print(\"Accuracy:\",metrics.accuracy_score(y_test, y_pred))"
   ]
  },
  {
   "cell_type": "markdown",
   "metadata": {},
   "source": [
    "## Scratch Implementation"
   ]
  },
  {
   "cell_type": "code",
   "execution_count": 10,
   "metadata": {},
   "outputs": [],
   "source": [
    "def knn(train_x, train_y, test_x, k=5):\n",
    "    predicted = []\n",
    "    for j,row in enumerate(test_x):\n",
    "        h = []\n",
    "        for i,pt in enumerate(train_x):\n",
    "            d = distance.euclidean(pt,row)\n",
    "            hq.heappush(h,(d,i))\n",
    "        h = h[:k]\n",
    "        labels = [train_y[l[1]] for l in h]\n",
    "        predicted.append(0 if labels.count(0) > labels.count(1) else 1)\n",
    "    return predicted\n",
    "\n",
    "def findPredictedClass(predicted_labels,test_y):\n",
    "    tp,tn,fp,fn = 0,0,0,0\n",
    "    for i in range(len(predicted_labels)):\n",
    "        if predicted_labels[i] == 1 and test_y[i] == 1:\n",
    "            tp+=1    \n",
    "        if predicted_labels[i] == 0 and test_y[i] == 0:\n",
    "            tn+=1\n",
    "        if predicted_labels[i] == 1 and test_y[i] == 0:\n",
    "            fp+=1\n",
    "        if predicted_labels[i] == 0 and test_y[i] == 1:\n",
    "            fn+=1\n",
    "    accuracy = (tp + tn)/(tp + tn + fp + fn)\n",
    "    precision = tp / (tp + fp)\n",
    "    recall = tp / (tp + fn)\n",
    "    fscore = 2 * (precision * recall)/(precision + recall)\n",
    "    return accuracy,precision,recall,fscore"
   ]
  },
  {
   "cell_type": "code",
   "execution_count": 11,
   "metadata": {},
   "outputs": [],
   "source": [
    "def dataProcessing(X,Y):\n",
    "    data = np.column_stack((X, Y))\n",
    "    np.random.shuffle(data)\n",
    "    RowCount = math.ceil(len(X)/10)\n",
    "    output = list(chunks(data,RowCount))\n",
    "    print('Output Count:'+str(len(output))+' Output X Shape:'+str(len(output[0]))+' Output Y Shape:'+str(len(output[0][0])))\n",
    "    return output"
   ]
  },
  {
   "cell_type": "code",
   "execution_count": 12,
   "metadata": {},
   "outputs": [],
   "source": [
    "def knnExecution(output, k):\n",
    "    totalAccuracy, totalPrecision, totalRecall, totalFscore = [],[],[],[]\n",
    "    for i in range(len(output)):\n",
    "        test_x,test_y,train_x, train_y = [], [], [], []\n",
    "        train_x = [row for j,lt in enumerate(output) if j!=i for row in lt]\n",
    "        test_x = output[i]\n",
    "        for arr in test_x:\n",
    "            test_y.append(arr[-1])\n",
    "        for arr in train_x:\n",
    "            train_y.append(arr[-1])\n",
    "        train_x = np.delete(train_x, np.s_[-1:], axis=1)\n",
    "        test_x = np.delete(test_x, np.s_[-1:], axis=1)\n",
    "\n",
    "        predicted_labels = knn(train_x, train_y, test_x, k)\n",
    "        accuracy, precision, recall, fscore = findPredictedClass(predicted_labels,test_y)\n",
    "        totalAccuracy.append(accuracy)\n",
    "        totalPrecision.append(precision)\n",
    "        totalRecall.append(recall)\n",
    "        totalFscore.append(fscore)\n",
    "\n",
    "    avgAccuracy  = np.mean(totalAccuracy)\n",
    "    avgPrecision = np.mean(totalPrecision)\n",
    "    avgRecall    = np.mean(totalRecall)\n",
    "    avgFscore    = np.mean(totalFscore)  \n",
    "    print('Avgerage Accuracy :'+ str(avgAccuracy))\n",
    "    print('Avgerage Precision :'+ str(avgPrecision))\n",
    "    print('Avgerage Recall :'+ str(avgRecall))\n",
    "    print('Avgerage Fscore :'+ str(avgFscore))"
   ]
  },
  {
   "cell_type": "code",
   "execution_count": 18,
   "metadata": {},
   "outputs": [
    {
     "name": "stdout",
     "output_type": "stream",
     "text": [
      "Output Count:10 Output X Shape:57 Output Y Shape:31\n",
      "i: 3\n",
      "Avgerage Accuracy :0.9085213032581454\n",
      "Avgerage Precision :0.9063637669706791\n",
      "Avgerage Recall :0.8278067588729353\n",
      "Avgerage Fscore :0.8636174084204195\n",
      "-----------------------------------------------------\n",
      "i: 4\n",
      "Avgerage Accuracy :0.9085526315789474\n",
      "Avgerage Precision :0.8683494842753156\n",
      "Avgerage Recall :0.884617679433856\n",
      "Avgerage Fscore :0.8744888414862981\n",
      "-----------------------------------------------------\n",
      "i: 5\n",
      "Avgerage Accuracy :0.9208333333333334\n",
      "Avgerage Precision :0.9216193633059632\n",
      "Avgerage Recall :0.8512296322958088\n",
      "Avgerage Fscore :0.88216263623435\n",
      "-----------------------------------------------------\n",
      "i: 6\n",
      "Avgerage Accuracy :0.9085213032581455\n",
      "Avgerage Precision :0.8819351073762837\n",
      "Avgerage Recall :0.863451854518031\n",
      "Avgerage Fscore :0.8699557274903567\n",
      "-----------------------------------------------------\n",
      "i: 7\n",
      "Avgerage Accuracy :0.9190476190476191\n",
      "Avgerage Precision :0.933073083778966\n",
      "Avgerage Recall :0.8313151023812789\n",
      "Avgerage Fscore :0.8755893259180727\n",
      "-----------------------------------------------------\n",
      "i: 8\n",
      "Avgerage Accuracy :0.9190789473684211\n",
      "Avgerage Precision :0.9110797624923348\n",
      "Avgerage Recall :0.8546484357146122\n",
      "Avgerage Fscore :0.8789826365090674\n",
      "-----------------------------------------------------\n",
      "i: 9\n",
      "Avgerage Accuracy :0.9190789473684211\n",
      "Avgerage Precision :0.9240122044241039\n",
      "Avgerage Recall :0.8424791235453\n",
      "Avgerage Fscore :0.8792198029135703\n",
      "-----------------------------------------------------\n"
     ]
    }
   ],
   "source": [
    "output = dataProcessing(X_1, Y_1)\n",
    "for i in range(3,10):\n",
    "    print('i: '+str(i))\n",
    "    knnExecution(output, i)\n",
    "    print('-----------------------------------------------------')"
   ]
  },
  {
   "cell_type": "code",
   "execution_count": 19,
   "metadata": {},
   "outputs": [
    {
     "name": "stdout",
     "output_type": "stream",
     "text": [
      "Output Count:10 Output X Shape:47 Output Y Shape:10\n",
      "i: 2\n",
      "Avgerage Accuracy :0.5146753955264594\n",
      "Avgerage Precision :0.3622828264680309\n",
      "Avgerage Recall :0.5392763819427906\n",
      "Avgerage Fscore :0.4301591290210216\n",
      "-----------------------------------------------------\n",
      "i: 3\n",
      "Avgerage Accuracy :0.546644844517185\n",
      "Avgerage Precision :0.28924408924408923\n",
      "Avgerage Recall :0.22179027413934532\n",
      "Avgerage Fscore :0.24691134427335987\n",
      "-----------------------------------------------------\n",
      "i: 4\n",
      "Avgerage Accuracy :0.5576650300054556\n",
      "Avgerage Precision :0.37443414322250634\n",
      "Avgerage Recall :0.40808754068429\n",
      "Avgerage Fscore :0.38371655045553477\n",
      "-----------------------------------------------------\n",
      "i: 5\n",
      "Avgerage Accuracy :0.5858156028368795\n",
      "Avgerage Precision :0.3452168746286393\n",
      "Avgerage Recall :0.21806650392950702\n",
      "Avgerage Fscore :0.2602050613348788\n",
      "-----------------------------------------------------\n",
      "i: 6\n",
      "Avgerage Accuracy :0.5900709219858157\n",
      "Avgerage Precision :0.4019994560822734\n",
      "Avgerage Recall :0.3797780886983674\n",
      "Avgerage Fscore :0.38655539688736534\n",
      "-----------------------------------------------------\n",
      "i: 7\n",
      "Avgerage Accuracy :0.5973267866884888\n",
      "Avgerage Precision :0.387010212010212\n",
      "Avgerage Recall :0.25357022836125004\n",
      "Avgerage Fscore :0.30008921054699045\n",
      "-----------------------------------------------------\n",
      "i: 8\n",
      "Avgerage Accuracy :0.5739225313693399\n",
      "Avgerage Precision :0.38649711399711395\n",
      "Avgerage Recall :0.332085020242915\n",
      "Avgerage Fscore :0.34668287508844786\n",
      "-----------------------------------------------------\n",
      "i: 9\n",
      "Avgerage Accuracy :0.6011456628477905\n",
      "Avgerage Precision :0.3816361416361416\n",
      "Avgerage Recall :0.20221339075441244\n",
      "Avgerage Fscore :0.2582766782857527\n",
      "-----------------------------------------------------\n",
      "i: 10\n",
      "Avgerage Accuracy :0.613911620294599\n",
      "Avgerage Precision :0.41802489177489177\n",
      "Avgerage Recall :0.3225272882432325\n",
      "Avgerage Fscore :0.35620649928491976\n",
      "-----------------------------------------------------\n",
      "i: 11\n",
      "Avgerage Accuracy :0.6398799781778506\n",
      "Avgerage Precision :0.4613125763125763\n",
      "Avgerage Recall :0.2642150247413405\n",
      "Avgerage Fscore :0.3302287224102106\n",
      "-----------------------------------------------------\n",
      "i: 12\n",
      "Avgerage Accuracy :0.6339334424440807\n",
      "Avgerage Precision :0.46737808759867583\n",
      "Avgerage Recall :0.37007630785107565\n",
      "Avgerage Fscore :0.4003377381014298\n",
      "-----------------------------------------------------\n",
      "i: 13\n",
      "Avgerage Accuracy :0.611783960720131\n",
      "Avgerage Precision :0.3945054945054945\n",
      "Avgerage Recall :0.1953441957079728\n",
      "Avgerage Fscore :0.25426622938302584\n",
      "-----------------------------------------------------\n",
      "i: 14\n",
      "Avgerage Accuracy :0.6143480632842334\n",
      "Avgerage Precision :0.4285359085359085\n",
      "Avgerage Recall :0.3191367653674155\n",
      "Avgerage Fscore :0.35840538155749074\n",
      "-----------------------------------------------------\n"
     ]
    }
   ],
   "source": [
    "output_2 = dataProcessing(X_2, Y_2)\n",
    "for i in range(2,15):\n",
    "    print('i: '+str(i))\n",
    "    knnExecution(output_2, i)\n",
    "    print('-----------------------------------------------------')"
   ]
  },
  {
   "cell_type": "markdown",
   "metadata": {},
   "source": [
    "## Data Set 3"
   ]
  },
  {
   "cell_type": "code",
   "execution_count": 20,
   "metadata": {},
   "outputs": [
    {
     "name": "stdout",
     "output_type": "stream",
     "text": [
      "X Shape:80 Y Shape: 5\n"
     ]
    }
   ],
   "source": [
    "TrainData = pd.read_csv(\"project3_dataset3_train.txt\",header=None, delimiter=\"\\t\")\n",
    "XShape, YShape = TrainData.shape\n",
    "print('X Shape:' + str(XShape) + ' Y Shape: '+ str(YShape))\n",
    "TrainData_Y = TrainData[YShape-1]\n",
    "TrainData_X = TrainData.iloc[:, :YShape-1]\n",
    "TrainData_X = TrainData_X.to_numpy()\n",
    "TrainData_Y = TrainData_Y.to_numpy()"
   ]
  },
  {
   "cell_type": "code",
   "execution_count": 21,
   "metadata": {},
   "outputs": [
    {
     "name": "stdout",
     "output_type": "stream",
     "text": [
      "X Shape:20 Y Shape: 5\n"
     ]
    }
   ],
   "source": [
    "TestData = pd.read_csv(\"project3_dataset3_test.txt\",header=None, delimiter=\"\\t\")\n",
    "XShape, YShape = TestData.shape\n",
    "print('X Shape:' + str(XShape) + ' Y Shape: '+ str(YShape))\n",
    "TestData_Y = TestData[YShape-1]\n",
    "TestData_X = TestData.iloc[:, :YShape-1]\n",
    "TestData_X = TestData_X.to_numpy()\n",
    "TestData_Y = TestData_Y.to_numpy()"
   ]
  },
  {
   "cell_type": "code",
   "execution_count": 23,
   "metadata": {},
   "outputs": [
    {
     "name": "stdout",
     "output_type": "stream",
     "text": [
      "i: 2\n",
      " Accuracy :1.0\n",
      " Precision :1.0\n",
      " Recall :1.0\n",
      " Fscore :1.0\n",
      "-----------------------------------------------------\n",
      "i: 3\n",
      " Accuracy :1.0\n",
      " Precision :1.0\n",
      " Recall :1.0\n",
      " Fscore :1.0\n",
      "-----------------------------------------------------\n",
      "i: 4\n",
      " Accuracy :1.0\n",
      " Precision :1.0\n",
      " Recall :1.0\n",
      " Fscore :1.0\n",
      "-----------------------------------------------------\n",
      "i: 5\n",
      " Accuracy :0.95\n",
      " Precision :1.0\n",
      " Recall :0.9\n",
      " Fscore :0.9473684210526316\n",
      "-----------------------------------------------------\n",
      "i: 6\n",
      " Accuracy :0.95\n",
      " Precision :1.0\n",
      " Recall :0.9\n",
      " Fscore :0.9473684210526316\n",
      "-----------------------------------------------------\n",
      "i: 7\n",
      " Accuracy :0.95\n",
      " Precision :1.0\n",
      " Recall :0.9\n",
      " Fscore :0.9473684210526316\n",
      "-----------------------------------------------------\n",
      "i: 8\n",
      " Accuracy :1.0\n",
      " Precision :1.0\n",
      " Recall :1.0\n",
      " Fscore :1.0\n",
      "-----------------------------------------------------\n",
      "i: 9\n",
      " Accuracy :1.0\n",
      " Precision :1.0\n",
      " Recall :1.0\n",
      " Fscore :1.0\n",
      "-----------------------------------------------------\n"
     ]
    }
   ],
   "source": [
    "for i in range(2, 10):\n",
    "    print('i: '+str(i))\n",
    "    predicted_labels = knn(TrainData_X, TrainData_Y, TestData_X, i)\n",
    "    accuracy, precision, recall, fscore = findPredictedClass(predicted_labels,TestData_Y)\n",
    "    print(' Accuracy :'+ str(accuracy))\n",
    "    print(' Precision :'+ str(precision))\n",
    "    print(' Recall :'+ str(recall))\n",
    "    print(' Fscore :'+ str(fscore))\n",
    "    print('-----------------------------------------------------')"
   ]
  },
  {
   "cell_type": "markdown",
   "metadata": {},
   "source": [
    "## Data Set 4"
   ]
  },
  {
   "cell_type": "code",
   "execution_count": 24,
   "metadata": {},
   "outputs": [],
   "source": [
    "Data4 = pd.read_csv(\"project3_dataset4.txt\",header=None, delimiter=\"\\t\")"
   ]
  },
  {
   "cell_type": "code",
   "execution_count": 25,
   "metadata": {},
   "outputs": [],
   "source": [
    "for i in range(0,4):\n",
    "    Data4 = ConvertToLabel(Data4,i)"
   ]
  },
  {
   "cell_type": "code",
   "execution_count": 26,
   "metadata": {},
   "outputs": [
    {
     "name": "stdout",
     "output_type": "stream",
     "text": [
      "X Shape:14 Y Shape: 5\n"
     ]
    }
   ],
   "source": [
    "XShape, YShape = Data4.shape\n",
    "print('X Shape:' + str(XShape) + ' Y Shape: '+ str(YShape))\n",
    "Data4_Y = Data4[YShape-1]\n",
    "Data4_X = Data4.iloc[:, :YShape-1]\n",
    "Data4_X = Data4_X.to_numpy()\n",
    "Data4_Y = Data4_Y.to_numpy()"
   ]
  },
  {
   "cell_type": "code",
   "execution_count": 30,
   "metadata": {},
   "outputs": [],
   "source": [
    "X_train, X_test, y_train, y_test = train_test_split(Data4_X, Data4_Y, test_size=0.2)"
   ]
  },
  {
   "cell_type": "code",
   "execution_count": 31,
   "metadata": {},
   "outputs": [
    {
     "name": "stdout",
     "output_type": "stream",
     "text": [
      "i: 2\n",
      " Accuracy :0.6666666666666666\n",
      " Precision :0.6666666666666666\n",
      " Recall :1.0\n",
      " Fscore :0.8\n",
      "-----------------------------------------------------\n",
      "i: 3\n",
      " Accuracy :0.3333333333333333\n",
      " Precision :0.5\n",
      " Recall :0.5\n",
      " Fscore :0.5\n",
      "-----------------------------------------------------\n",
      "i: 4\n",
      " Accuracy :0.6666666666666666\n",
      " Precision :0.6666666666666666\n",
      " Recall :1.0\n",
      " Fscore :0.8\n",
      "-----------------------------------------------------\n",
      "i: 5\n",
      " Accuracy :0.6666666666666666\n",
      " Precision :0.6666666666666666\n",
      " Recall :1.0\n",
      " Fscore :0.8\n",
      "-----------------------------------------------------\n",
      "i: 6\n",
      " Accuracy :0.6666666666666666\n",
      " Precision :0.6666666666666666\n",
      " Recall :1.0\n",
      " Fscore :0.8\n",
      "-----------------------------------------------------\n",
      "i: 7\n",
      " Accuracy :0.6666666666666666\n",
      " Precision :0.6666666666666666\n",
      " Recall :1.0\n",
      " Fscore :0.8\n",
      "-----------------------------------------------------\n",
      "i: 8\n",
      " Accuracy :0.6666666666666666\n",
      " Precision :0.6666666666666666\n",
      " Recall :1.0\n",
      " Fscore :0.8\n",
      "-----------------------------------------------------\n",
      "i: 9\n",
      " Accuracy :0.6666666666666666\n",
      " Precision :0.6666666666666666\n",
      " Recall :1.0\n",
      " Fscore :0.8\n",
      "-----------------------------------------------------\n"
     ]
    }
   ],
   "source": [
    "for i in range(2, 10):\n",
    "    print('i: '+str(i))\n",
    "    predicted_labels = knn(X_train, y_train, X_test, i)\n",
    "    accuracy, precision, recall, fscore = findPredictedClass(predicted_labels,y_test)\n",
    "    print(' Accuracy :'+ str(accuracy))\n",
    "    print(' Precision :'+ str(precision))\n",
    "    print(' Recall :'+ str(recall))\n",
    "    print(' Fscore :'+ str(fscore))\n",
    "    print('-----------------------------------------------------')"
   ]
  },
  {
   "cell_type": "code",
   "execution_count": null,
   "metadata": {},
   "outputs": [],
   "source": []
  }
 ],
 "metadata": {
  "kernelspec": {
   "display_name": "Python 3",
   "language": "python",
   "name": "python3"
  },
  "language_info": {
   "codemirror_mode": {
    "name": "ipython",
    "version": 3
   },
   "file_extension": ".py",
   "mimetype": "text/x-python",
   "name": "python",
   "nbconvert_exporter": "python",
   "pygments_lexer": "ipython3",
   "version": "3.7.3"
  }
 },
 "nbformat": 4,
 "nbformat_minor": 2
}
